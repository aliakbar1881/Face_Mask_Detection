{
  "nbformat": 4,
  "nbformat_minor": 0,
  "metadata": {
    "colab": {
      "provenance": []
    },
    "kernelspec": {
      "name": "python3",
      "display_name": "Python 3"
    },
    "language_info": {
      "name": "python"
    },
    "accelerator": "GPU",
    "gpuClass": "standard"
  },
  "cells": [
    {
      "cell_type": "markdown",
      "source": [
        "# Mask Detection Dataset"
      ],
      "metadata": {
        "id": "HkfzLi9Ndfns"
      }
    },
    {
      "cell_type": "markdown",
      "source": [
        "## Imoprt Required Libraries"
      ],
      "metadata": {
        "id": "tzfVrsoydsCU"
      }
    },
    {
      "cell_type": "code",
      "source": [
        "!pip install beautifulsoup\n",
        "!pip install opendatasets"
      ],
      "metadata": {
        "colab": {
          "base_uri": "https://localhost:8080/"
        },
        "id": "0hPORtTHB0Le",
        "outputId": "2e28b56a-fb29-4ff4-a39b-571d6ea2093b"
      },
      "execution_count": 4,
      "outputs": [
        {
          "output_type": "stream",
          "name": "stdout",
          "text": [
            "Looking in indexes: https://pypi.org/simple, https://us-python.pkg.dev/colab-wheels/public/simple/\n",
            "Collecting beautifulsoup\n",
            "  Downloading BeautifulSoup-3.2.2.tar.gz (32 kB)\n",
            "\u001b[33mWARNING: Discarding https://files.pythonhosted.org/packages/40/f2/6c9f2f3e696ee6a1fb0e4d7850617e224ed2b0b1e872110abffeca2a09d4/BeautifulSoup-3.2.2.tar.gz#sha256=a04169602bff6e3138b1259dbbf491f5a27f9499dea9a8fbafd48843f9d89970 (from https://pypi.org/simple/beautifulsoup/). Command errored out with exit status 1: python setup.py egg_info Check the logs for full command output.\u001b[0m\n",
            "  Downloading BeautifulSoup-3.2.1.tar.gz (31 kB)\n",
            "\u001b[33mWARNING: Discarding https://files.pythonhosted.org/packages/1e/ee/295988deca1a5a7accd783d0dfe14524867e31abb05b6c0eeceee49c759d/BeautifulSoup-3.2.1.tar.gz#sha256=6a8cb4401111e011b579c8c52a51cdab970041cc543814bbd9577a4529fe1cdb (from https://pypi.org/simple/beautifulsoup/). Command errored out with exit status 1: python setup.py egg_info Check the logs for full command output.\u001b[0m\n",
            "  Downloading BeautifulSoup-3.2.0.tar.gz (31 kB)\n",
            "\u001b[33mWARNING: Discarding https://files.pythonhosted.org/packages/33/fe/15326560884f20d792d3ffc7fe8f639aab88647c9d46509a240d9bfbb6b1/BeautifulSoup-3.2.0.tar.gz#sha256=0dc52d07516c1665c9dd9f0a390a7a054bfb7b147a50b2866fb116b8909dfd37 (from https://pypi.org/simple/beautifulsoup/). Command errored out with exit status 1: python setup.py egg_info Check the logs for full command output.\u001b[0m\n",
            "\u001b[31mERROR: Could not find a version that satisfies the requirement beautifulsoup (from versions: 3.2.0, 3.2.1, 3.2.2)\u001b[0m\n",
            "\u001b[31mERROR: No matching distribution found for beautifulsoup\u001b[0m\n",
            "Looking in indexes: https://pypi.org/simple, https://us-python.pkg.dev/colab-wheels/public/simple/\n",
            "Collecting opendatasets\n",
            "  Downloading opendatasets-0.1.22-py3-none-any.whl (15 kB)\n",
            "Requirement already satisfied: click in /usr/local/lib/python3.7/dist-packages (from opendatasets) (7.1.2)\n",
            "Requirement already satisfied: tqdm in /usr/local/lib/python3.7/dist-packages (from opendatasets) (4.64.1)\n",
            "Requirement already satisfied: kaggle in /usr/local/lib/python3.7/dist-packages (from opendatasets) (1.5.12)\n",
            "Requirement already satisfied: python-dateutil in /usr/local/lib/python3.7/dist-packages (from kaggle->opendatasets) (2.8.2)\n",
            "Requirement already satisfied: certifi in /usr/local/lib/python3.7/dist-packages (from kaggle->opendatasets) (2022.9.24)\n",
            "Requirement already satisfied: requests in /usr/local/lib/python3.7/dist-packages (from kaggle->opendatasets) (2.23.0)\n",
            "Requirement already satisfied: python-slugify in /usr/local/lib/python3.7/dist-packages (from kaggle->opendatasets) (6.1.2)\n",
            "Requirement already satisfied: urllib3 in /usr/local/lib/python3.7/dist-packages (from kaggle->opendatasets) (1.24.3)\n",
            "Requirement already satisfied: six>=1.10 in /usr/local/lib/python3.7/dist-packages (from kaggle->opendatasets) (1.15.0)\n",
            "Requirement already satisfied: text-unidecode>=1.3 in /usr/local/lib/python3.7/dist-packages (from python-slugify->kaggle->opendatasets) (1.3)\n",
            "Requirement already satisfied: idna<3,>=2.5 in /usr/local/lib/python3.7/dist-packages (from requests->kaggle->opendatasets) (2.10)\n",
            "Requirement already satisfied: chardet<4,>=3.0.2 in /usr/local/lib/python3.7/dist-packages (from requests->kaggle->opendatasets) (3.0.4)\n",
            "Installing collected packages: opendatasets\n",
            "Successfully installed opendatasets-0.1.22\n"
          ]
        }
      ]
    },
    {
      "cell_type": "code",
      "source": [
        "import opendatasets\n",
        "import numpy as np\n",
        "from pathlib import Path\n",
        "import itertools as it\n",
        "import cv2\n",
        "from bs4 import BeautifulSoup as bsp"
      ],
      "metadata": {
        "id": "P9C5tNjWa_Ur"
      },
      "execution_count": 5,
      "outputs": []
    },
    {
      "cell_type": "code",
      "source": [
        "class DataSet:\n",
        "    url = 'https://www.kaggle.com/datasets/andrewmvd/face-mask-detection'\n",
        "    def __init__(self):\n",
        "        self.path = None\n",
        "        self.image_dtype = np.dtype([('image', 'u1', (32, 32, 3)), ('label', 'u1')])\n",
        "        self.images = None\n",
        "        self.size = 0\n",
        "    \n",
        "    def _generate_new_images(self):\n",
        "        assert self.load_data(self.path, self.url), 'An Error occured while loading dataset'\n",
        "        path_iter = (Path(self.path) / 'annotations').iterdir()\n",
        "        for i in path_iter:\n",
        "            if not i.is_file():\n",
        "                continue\n",
        "            with open(i) as f:\n",
        "                soup = bsp(f.read(), 'xml')\n",
        "                filename = Path(self.path) / 'images' / soup.find('filename').text\n",
        "                pic = cv2.imread(str(filename))\n",
        "                self._construct_new_image(soup, pic, filename)\n",
        "                        \n",
        "    def _construct_new_image(self, soup, pic, filename):\n",
        "        for i in soup('object'):\n",
        "            if i.find('name').text == 'without_mask':\n",
        "                label = 0\n",
        "            if i.find('name').text == 'with_mask':\n",
        "                label = 1\n",
        "            else:\n",
        "                label = 2\n",
        "            xmin = int(i.find('xmin').text)\n",
        "            xmax = int(i.find('xmax').text)\n",
        "            ymin = int(i.find('ymin').text)\n",
        "            ymax = int(i.find('ymax').text)\n",
        "            face = cv2.resize(pic[ymin:ymax, xmin:xmax], (32, 32))\n",
        "            if self.images is None:\n",
        "                self.images = np.array([(face, label)], dtype=self.image_dtype)\n",
        "            else:\n",
        "                self.images = np.append(self.images, np.array([(face, label)], dtype=self.image_dtype))\n",
        "        self.size = self.images.size\n",
        "                \n",
        "    @staticmethod\n",
        "    def load_data(path, url):\n",
        "        path = Path(path)\n",
        "        if not path.is_dir():\n",
        "            print(path.is_dir())\n",
        "            try:\n",
        "                opendatasets.download(url)\n",
        "                return True\n",
        "            except BaseException as e:\n",
        "                raise Load_DataSet_Error(f'An error occured while downloading and creating {path} dir.')\n",
        "        return True       \n",
        "    \n",
        "    @staticmethod\n",
        "    def save_split_dataset(to_path, *args, **kwargs):\n",
        "        np.savez_compressed(str(to_path), **kwargs)\n",
        "        \n",
        "    def _new_dataset(self, data):\n",
        "        self.images = data\n",
        "        self.size = data.size\n",
        "        self.image_dtype = data.dtype\n",
        "\n",
        "    def __call__(self, *, data=None, path=None):\n",
        "        if data is not None:\n",
        "            self._new_dataset(data)\n",
        "            return self\n",
        "        self.path = path\n",
        "        self._generate_new_images()\n",
        "    \n",
        "    def __getietm__(self, index):\n",
        "        return self.images[index]\n",
        "    \n",
        "    @classmethod\n",
        "    def split_data(cls, images,portion=[.5, .2, .3]):\n",
        "        assert sum(portion) == 1, 'Sum of portion not equal to 1'\n",
        "        size = tuple(map(lambda i: int(images.size * i), portion))\n",
        "        indecies = it.accumulate(size, lambda x,y: x+y)\n",
        "        return tuple(map(lambda i: cls()(data=i), np.split(images, [*indecies])))[:3]\n",
        "\n",
        "\n",
        "class Load_DataSet_Error(BaseException):\n",
        "  pass"
      ],
      "metadata": {
        "id": "qe9f5mY-4F48"
      },
      "execution_count": 256,
      "outputs": []
    },
    {
      "cell_type": "code",
      "source": [
        "face_dataset = DataSet()\n",
        "face_dataset(path='face-mask-detection')"
      ],
      "metadata": {
        "id": "h8b6GDn142cL"
      },
      "execution_count": 257,
      "outputs": []
    },
    {
      "cell_type": "markdown",
      "source": [
        "## Split Data and Create New Dataset"
      ],
      "metadata": {
        "id": "wUkzZUFsDC1C"
      }
    },
    {
      "cell_type": "code",
      "source": [
        "plt.imshow(face_dataset.images['image'][40])"
      ],
      "metadata": {
        "colab": {
          "base_uri": "https://localhost:8080/",
          "height": 283
        },
        "id": "8RWcW2_JVBi6",
        "outputId": "7ed33479-2d2f-46f3-f2a8-e21905a46943"
      },
      "execution_count": 262,
      "outputs": [
        {
          "output_type": "execute_result",
          "data": {
            "text/plain": [
              "<matplotlib.image.AxesImage at 0x7fb33756e190>"
            ]
          },
          "metadata": {},
          "execution_count": 262
        },
        {
          "output_type": "display_data",
          "data": {
            "text/plain": [
              "<Figure size 432x288 with 1 Axes>"
            ],
            "image/png": "[encoded data removed]"
          },
          "metadata": {
            "needs_background": "light"
          }
        }
      ]
    },
    {
      "cell_type": "code",
      "source": [
        "train, validation, test = DataSet.split_data(face_dataset.images)\n",
        "DataSet.save_split_dataset('splited_dataset.npz', train=train.images, validation=validation.images, test=test.images)"
      ],
      "metadata": {
        "id": "zE3i7v-PCVU7"
      },
      "execution_count": 263,
      "outputs": []
    },
    {
      "cell_type": "markdown",
      "source": [
        "> now `splited_dataset.npz` file has 40 M size. this very better than 500 M"
      ],
      "metadata": {
        "id": "OxDt9tUpDcM2"
      }
    },
    {
      "cell_type": "code",
      "source": [
        "data = np.load('splited_dataset.npz')"
      ],
      "metadata": {
        "id": "kfFHSYHhDzsE"
      },
      "execution_count": 264,
      "outputs": []
    },
    {
      "cell_type": "code",
      "source": [
        "train = data['train']\n",
        "validation = data['validation']\n",
        "test = data['test']"
      ],
      "metadata": {
        "id": "iKYYy8hpD-Z8"
      },
      "execution_count": 265,
      "outputs": []
    },
    {
      "cell_type": "markdown",
      "source": [
        "## Model"
      ],
      "metadata": {
        "id": "It6uoc9XEeYv"
      }
    },
    {
      "cell_type": "code",
      "source": [
        "import tensorflow as tf\n",
        "from tensorflow import keras\n",
        "from tensorflow.keras import layers"
      ],
      "metadata": {
        "id": "qTN9niueEdlJ"
      },
      "execution_count": 266,
      "outputs": []
    },
    {
      "cell_type": "markdown",
      "source": [
        "# Config GPU Processing"
      ],
      "metadata": {
        "id": "FCsVnvHZ_BDO"
      }
    },
    {
      "cell_type": "code",
      "source": [
        "pysical_devices = tf.config.experimental.list_physical_devices(\"GPU\")\n",
        "print('Num GPUs Available: ', len(pysical_devices))\n",
        "tf.config.experimental.set_memory_growth(pysical_devices[0], True)"
      ],
      "metadata": {
        "colab": {
          "base_uri": "https://localhost:8080/"
        },
        "id": "21uSnmzxADVU",
        "outputId": "dde19240-9519-482d-f7a3-28e5c7037351"
      },
      "execution_count": 267,
      "outputs": [
        {
          "output_type": "stream",
          "name": "stdout",
          "text": [
            "Num GPUs Available:  1\n"
          ]
        }
      ]
    },
    {
      "cell_type": "code",
      "source": [
        "input = keras.Input(shape=(32*32*3,), name='input')\n",
        "features = layers.Dense(128, activation='relu',  kernel_regularizer='l2', name='laye_1')(input)\n",
        "features = layers.Dense(64, activation='relu',  kernel_regularizer='l2', name='layer_2')(features)\n",
        "features = layers.Dropout(0.2, name='Dropout_layer')(features)\n",
        "features = layers.Dense(16, activation='relu',  kernel_regularizer='l2', name='layer_3')(features)\n",
        "output = layers.Dense(3, activation='softmax', name='output')(features)\n",
        "model = keras.Model(inputs=input, outputs=output, name='mask_detect_1')"
      ],
      "metadata": {
        "id": "Pf0dLnO-ENC6"
      },
      "execution_count": 268,
      "outputs": []
    },
    {
      "cell_type": "code",
      "source": [
        "model.summary()"
      ],
      "metadata": {
        "colab": {
          "base_uri": "https://localhost:8080/"
        },
        "id": "uQdvANs_GCoN",
        "outputId": "1ed239fb-e152-46e3-cce9-a9cd72509b41"
      },
      "execution_count": 269,
      "outputs": [
        {
          "output_type": "stream",
          "name": "stdout",
          "text": [
            "Model: \"mask_detect_1\"\n",
            "_________________________________________________________________\n",
            " Layer (type)                Output Shape              Param #   \n",
            "=================================================================\n",
            " input (InputLayer)          [(None, 3072)]            0         \n",
            "                                                                 \n",
            " laye_1 (Dense)              (None, 128)               393344    \n",
            "                                                                 \n",
            " layer_2 (Dense)             (None, 64)                8256      \n",
            "                                                                 \n",
            " Dropout_layer (Dropout)     (None, 64)                0         \n",
            "                                                                 \n",
            " layer_3 (Dense)             (None, 16)                1040      \n",
            "                                                                 \n",
            " output (Dense)              (None, 3)                 51        \n",
            "                                                                 \n",
            "=================================================================\n",
            "Total params: 402,691\n",
            "Trainable params: 402,691\n",
            "Non-trainable params: 0\n",
            "_________________________________________________________________\n"
          ]
        }
      ]
    },
    {
      "cell_type": "code",
      "source": [
        "keras.utils.plot_model(model, 'model.png', show_shapes=True)"
      ],
      "metadata": {
        "colab": {
          "base_uri": "https://localhost:8080/",
          "height": 644
        },
        "id": "AKaxQyQSGEap",
        "outputId": "fc6269d8-a9e6-4d7a-9f5a-f7c1ad877e08"
      },
      "execution_count": 270,
      "outputs": [
        {
          "output_type": "execute_result",
          "data": {
            "image/png": "[encoded data removed]",
            "text/plain": [
              "<IPython.core.display.Image object>"
            ]
          },
          "metadata": {},
          "execution_count": 270
        }
      ]
    },
    {
      "cell_type": "code",
      "source": [
        "model.compile(optimizer='rmsprop', loss='sparse_categorical_crossentropy', metrics=['accuracy'])"
      ],
      "metadata": {
        "id": "W-knBEn8Gtyy"
      },
      "execution_count": 271,
      "outputs": []
    },
    {
      "cell_type": "code",
      "source": [
        "tf.config.run_functions_eagerly(True)\n",
        "callbacklist = [\n",
        "    keras.callbacks.EarlyStopping(monitor='val_accuracy', patience=4),\n",
        "    keras.callbacks.ModelCheckpoint(filepath='checkpoint.keras', monitor='val_accuracy')\n",
        "]\n",
        "train_data = train['image'].reshape(-1, 32*32*3)\n",
        "validation_data = validation['image'].reshape(-1, 32*32*3)\n",
        "test_data = test['image'].reshape(-1, 32*32*3)\n",
        "history = model.fit(\n",
        "    train_data,\n",
        "    train['label'],\n",
        "    callbacks=callbacklist,\n",
        "    epochs=33,\n",
        "    use_multiprocessing=True,\n",
        "    validation_data=(validation_data, validation['label'])\n",
        ")"
      ],
      "metadata": {
        "colab": {
          "base_uri": "https://localhost:8080/"
        },
        "id": "orpamt3vIooP",
        "outputId": "03f308e9-f541-40bd-c484-8dfb7bf1253a"
      },
      "execution_count": 273,
      "outputs": [
        {
          "output_type": "stream",
          "name": "stdout",
          "text": [
            "Epoch 1/33\n",
            " 5/64 [=>............................] - ETA: 1s - loss: 379.2155 - accuracy: 0.3562"
          ]
        },
        {
          "output_type": "stream",
          "name": "stderr",
          "text": [
            "/usr/local/lib/python3.7/dist-packages/tensorflow/python/data/ops/structured_function.py:265: UserWarning: Even though the `tf.config.experimental_run_functions_eagerly` option is set, this option does not apply to tf.data functions. To force eager execution of tf.data functions, please use `tf.data.experimental.enable_debug_mode()`.\n",
            "  \"Even though the `tf.config.experimental_run_functions_eagerly` \"\n"
          ]
        },
        {
          "output_type": "stream",
          "name": "stdout",
          "text": [
            "64/64 [==============================] - 2s 31ms/step - loss: 69.2030 - accuracy: 0.6469 - val_loss: 58.5431 - val_accuracy: 0.7862\n",
            "Epoch 2/33\n",
            "64/64 [==============================] - 2s 31ms/step - loss: 17.6821 - accuracy: 0.6989 - val_loss: 3.1329 - val_accuracy: 0.7555\n",
            "Epoch 3/33\n",
            "64/64 [==============================] - 2s 31ms/step - loss: 8.3908 - accuracy: 0.7269 - val_loss: 2.3333 - val_accuracy: 0.7862\n",
            "Epoch 4/33\n",
            "64/64 [==============================] - 2s 31ms/step - loss: 5.8605 - accuracy: 0.7387 - val_loss: 1.3092 - val_accuracy: 0.8096\n",
            "Epoch 5/33\n",
            "64/64 [==============================] - 2s 31ms/step - loss: 3.1114 - accuracy: 0.7078 - val_loss: 0.8967 - val_accuracy: 0.7801\n",
            "Epoch 6/33\n",
            "64/64 [==============================] - 2s 31ms/step - loss: 1.6372 - accuracy: 0.7038 - val_loss: 0.9152 - val_accuracy: 0.8206\n",
            "Epoch 7/33\n",
            "64/64 [==============================] - 2s 31ms/step - loss: 0.9713 - accuracy: 0.7623 - val_loss: 0.7908 - val_accuracy: 0.7862\n",
            "Epoch 8/33\n",
            "64/64 [==============================] - 2s 32ms/step - loss: 2.3232 - accuracy: 0.7176 - val_loss: 0.6464 - val_accuracy: 0.7862\n",
            "Epoch 9/33\n",
            "64/64 [==============================] - 2s 31ms/step - loss: 0.7500 - accuracy: 0.7328 - val_loss: 0.6431 - val_accuracy: 0.7862\n",
            "Epoch 10/33\n",
            "64/64 [==============================] - 2s 31ms/step - loss: 0.6958 - accuracy: 0.7696 - val_loss: 0.5065 - val_accuracy: 0.7862\n"
          ]
        }
      ]
    },
    {
      "cell_type": "code",
      "source": [
        "history.history.keys()"
      ],
      "metadata": {
        "id": "IM29W0RVMAmP",
        "colab": {
          "base_uri": "https://localhost:8080/"
        },
        "outputId": "09e5b5d5-68fd-4d60-b76d-ba770d5c320c"
      },
      "execution_count": 274,
      "outputs": [
        {
          "output_type": "execute_result",
          "data": {
            "text/plain": [
              "dict_keys(['loss', 'accuracy', 'val_loss', 'val_accuracy'])"
            ]
          },
          "metadata": {},
          "execution_count": 274
        }
      ]
    },
    {
      "cell_type": "markdown",
      "source": [
        "## Plot Accuracy vs Validation"
      ],
      "metadata": {
        "id": "_duGp9ZpNzZO"
      }
    },
    {
      "cell_type": "code",
      "source": [
        "import matplotlib.pyplot as plt"
      ],
      "metadata": {
        "id": "HUaBf-zwNyFG"
      },
      "execution_count": 275,
      "outputs": []
    },
    {
      "cell_type": "code",
      "source": [
        "def plot_metric(*args, **kwargs):\n",
        "  loss, val_loss,  metric,*_ = args\n",
        "  epochs = range(1, len(loss)+1)\n",
        "  plt.clf()\n",
        "  plt.plot(epochs, loss, 'r', label=f\"train {metric}\")\n",
        "  plt.plot(epochs, val_loss, 'b', label=f\"validation {metric}\")\n",
        "  plt.xlabel('Epochs')\n",
        "  plt.ylabel(metric.title())\n",
        "  plt.legend()\n",
        "  plt.show()"
      ],
      "metadata": {
        "id": "k7vV9yhhNgFP"
      },
      "execution_count": 276,
      "outputs": []
    },
    {
      "cell_type": "code",
      "source": [
        "plot_metric(history.history['loss'], history.history['val_loss'], 'loss')\n",
        "plot_metric(history.history['accuracy'], history.history['val_accuracy'], 'accuracy')"
      ],
      "metadata": {
        "colab": {
          "base_uri": "https://localhost:8080/",
          "height": 541
        },
        "id": "t3wfqxivOIAR",
        "outputId": "6895e750-d77f-49c4-9041-f8ee84590e20"
      },
      "execution_count": 277,
      "outputs": [
        {
          "output_type": "display_data",
          "data": {
            "text/plain": [
              "<Figure size 432x288 with 1 Axes>"
            ],
            "image/png": "[encoded data removed]"
          },
          "metadata": {
            "needs_background": "light"
          }
        },
        {
          "output_type": "display_data",
          "data": {
            "text/plain": [
              "<Figure size 432x288 with 1 Axes>"
            ],
            "image/png": "[encoded data removed]"
          },
          "metadata": {
            "needs_background": "light"
          }
        }
      ]
    },
    {
      "cell_type": "markdown",
      "source": [
        "## Evalute Generalization"
      ],
      "metadata": {
        "id": "ZJ8kX90CR7Ek"
      }
    },
    {
      "cell_type": "code",
      "source": [
        "results = model.evaluate(test_data, test['label'])"
      ],
      "metadata": {
        "colab": {
          "base_uri": "https://localhost:8080/"
        },
        "id": "af8l7M7ySAf3",
        "outputId": "5a37d4b0-5da5-4bfa-f7cf-8e44e80a82eb"
      },
      "execution_count": 278,
      "outputs": [
        {
          "output_type": "stream",
          "name": "stdout",
          "text": [
            "39/39 [==============================] - 0s 11ms/step - loss: 0.4295 - accuracy: 0.8321\n"
          ]
        }
      ]
    },
    {
      "cell_type": "code",
      "source": [
        "results"
      ],
      "metadata": {
        "colab": {
          "base_uri": "https://localhost:8080/"
        },
        "id": "huodEMWjTBMz",
        "outputId": "4667c366-23e6-495d-cb45-7f263ecdc7a9"
      },
      "execution_count": 279,
      "outputs": [
        {
          "output_type": "execute_result",
          "data": {
            "text/plain": [
              "[0.42954152822494507, 0.8321048617362976]"
            ]
          },
          "metadata": {},
          "execution_count": 279
        }
      ]
    },
    {
      "cell_type": "markdown",
      "source": [
        "## Save Model"
      ],
      "metadata": {
        "id": "-3H1z-vQREnO"
      }
    },
    {
      "cell_type": "code",
      "source": [
        "model.save('model.h5')\n",
        "del model"
      ],
      "metadata": {
        "id": "n57uoyJwO78W"
      },
      "execution_count": 280,
      "outputs": []
    },
    {
      "cell_type": "markdown",
      "source": [
        "## Load and Predict"
      ],
      "metadata": {
        "id": "hqIHZp4OTaBT"
      }
    },
    {
      "cell_type": "code",
      "source": [
        "model = keras.models.load_model('model.h5')"
      ],
      "metadata": {
        "id": "o9WhxrGSTZXi"
      },
      "execution_count": 281,
      "outputs": []
    },
    {
      "cell_type": "code",
      "source": [
        "test_image = test['image'][0]"
      ],
      "metadata": {
        "id": "9BK4-EmXTpD8"
      },
      "execution_count": 282,
      "outputs": []
    },
    {
      "cell_type": "code",
      "source": [
        "plt.imshow(test_image)"
      ],
      "metadata": {
        "colab": {
          "base_uri": "https://localhost:8080/",
          "height": 283
        },
        "id": "Gn2_5s2VUAM-",
        "outputId": "1113784c-df36-4152-d1c6-8264a01b8097"
      },
      "execution_count": 283,
      "outputs": [
        {
          "output_type": "execute_result",
          "data": {
            "text/plain": [
              "<matplotlib.image.AxesImage at 0x7fb3374545d0>"
            ]
          },
          "metadata": {},
          "execution_count": 283
        },
        {
          "output_type": "display_data",
          "data": {
            "text/plain": [
              "<Figure size 432x288 with 1 Axes>"
            ],
            "image/png": "[encoded data removed]"
          },
          "metadata": {
            "needs_background": "light"
          }
        }
      ]
    },
    {
      "cell_type": "code",
      "source": [
        "result = model.predict(np.array([test_image.flatten()]))"
      ],
      "metadata": {
        "colab": {
          "base_uri": "https://localhost:8080/"
        },
        "id": "NrLeZKngWeRo",
        "outputId": "a7c255d9-cf29-41e1-83c2-09c707ab56a2"
      },
      "execution_count": 292,
      "outputs": [
        {
          "output_type": "stream",
          "name": "stdout",
          "text": [
            "1/1 [==============================] - 0s 18ms/step\n"
          ]
        },
        {
          "output_type": "stream",
          "name": "stderr",
          "text": [
            "/usr/local/lib/python3.7/dist-packages/tensorflow/python/data/ops/structured_function.py:265: UserWarning: Even though the `tf.config.experimental_run_functions_eagerly` option is set, this option does not apply to tf.data functions. To force eager execution of tf.data functions, please use `tf.data.experimental.enable_debug_mode()`.\n",
            "  \"Even though the `tf.config.experimental_run_functions_eagerly` \"\n"
          ]
        },
        {
          "output_type": "execute_result",
          "data": {
            "text/plain": [
              "1"
            ]
          },
          "metadata": {},
          "execution_count": 292
        }
      ]
    },
    {
      "cell_type": "code",
      "source": [
        "def category(pred):\n",
        "  categories = ('Without Mask', 'With Mask', 'Mask Not Wear')\n",
        "  return categories[pred]"
      ],
      "metadata": {
        "id": "EB5ckt_DXtLQ"
      },
      "execution_count": 294,
      "outputs": []
    },
    {
      "cell_type": "code",
      "source": [
        "category(result.argmax())"
      ],
      "metadata": {
        "colab": {
          "base_uri": "https://localhost:8080/",
          "height": 35
        },
        "id": "EO2Em-ObYTTg",
        "outputId": "7634c1ea-15c4-468b-d78a-a4b215aa0a41"
      },
      "execution_count": 295,
      "outputs": [
        {
          "output_type": "execute_result",
          "data": {
            "text/plain": [
              "'With Mask'"
            ],
            "application/vnd.google.colaboratory.intrinsic+json": {
              "type": "string"
            }
          },
          "metadata": {},
          "execution_count": 295
        }
      ]
    }
  ]
}